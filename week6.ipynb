{
  "nbformat": 4,
  "nbformat_minor": 0,
  "metadata": {
    "colab": {
      "provenance": [],
      "authorship_tag": "ABX9TyN/jnmh76v2Szz+yx1V8+wY",
      "include_colab_link": true
    },
    "kernelspec": {
      "name": "python3",
      "display_name": "Python 3"
    },
    "language_info": {
      "name": "python"
    }
  },
  "cells": [
    {
      "cell_type": "markdown",
      "metadata": {
        "id": "view-in-github",
        "colab_type": "text"
      },
      "source": [
        "<a href=\"https://colab.research.google.com/github/Matamsathwik/MLDS/blob/main/week6.ipynb\" target=\"_parent\"><img src=\"https://colab.research.google.com/assets/colab-badge.svg\" alt=\"Open In Colab\"/></a>"
      ]
    },
    {
      "cell_type": "code",
      "source": [
        "import numpy as np\n",
        "x=np.array(([2,9],[1,5],[3,6]),dtype=float)\n",
        "y=np.array(([92],[86],[89]),dtype=float)\n",
        "y=y/100\n",
        "print(x)\n",
        "print(y)\n",
        "\n",
        "def sigmoid(x):\n",
        "  return (1/(1+np.exp(-x)))\n",
        "\n",
        "def derivatives_sigmoid(x):\n",
        "  return x*(1-x)\n",
        "\n",
        "epoch=1000\n",
        "lr=0.01\n",
        "input_layer_neurons=2\n",
        "hidden_layer_neurons=2\n",
        "output_neurons=1\n",
        "\n",
        "wh=np.random.uniform(size=(input_layer_neurons,hidden_layer_neurons))\n",
        "bh=np.random.uniform(size=(1,hidden_layer_neurons))\n",
        "wout=np.random.uniform(size=(hidden_layer_neurons,output_neurons))\n",
        "bout = np.random.uniform(size=(1, output_neurons))\n",
        "\n",
        "for i in range(epoch):\n",
        "  hinp1=np.dot(x,wh)\n",
        "\n",
        "hinp = hinp1+bh\n",
        "hlayer_act = sigmoid(hinp)\n",
        "outinp1 = np.dot(hlayer_act,wout)\n",
        "outinp = outinp1+bout\n",
        "output = sigmoid(outinp)\n",
        "EO = (y-output)\n",
        "print(\"Error\\n\"+str(EO))\n",
        "\n",
        "outgrad= derivatives_sigmoid(output)\n",
        "d_output=EO*outgrad\n",
        "EH=d_output.dot(wout.T)\n",
        "hiddengrad = derivatives_sigmoid(hlayer_act)\n",
        "d_hiddenlayer = EH*hiddengrad\n",
        "wout+= hlayer_act.T.dot(d_output)*lr\n",
        "bout+= np.sum(d_output, axis=0, keepdims = True) * lr\n",
        "wh+= x.T.dot(d_hiddenlayer)*lr\n",
        "bh+= np.sum(d_hiddenlayer, axis=0, keepdims = True) * lr\n",
        "\n",
        "print(\"Actualoutput\\n\"+str(y))\n",
        "print(\"Predicted Output\\n\"+str(output))\n",
        "print(\"Error\\n\"+str(EO))"
      ],
      "metadata": {
        "colab": {
          "base_uri": "https://localhost:8080/"
        },
        "id": "HlhDbcqmJJ2z",
        "outputId": "52e885bc-b5dc-4d58-9650-95d76532f7c6"
      },
      "execution_count": null,
      "outputs": [
        {
          "output_type": "stream",
          "name": "stdout",
          "text": [
            "[[2. 9.]\n",
            " [1. 5.]\n",
            " [3. 6.]]\n",
            "[[0.92]\n",
            " [0.86]\n",
            " [0.89]]\n",
            "Error\n",
            "[[ 0.05579582]\n",
            " [-0.00054765]\n",
            " [ 0.02697121]]\n",
            "Actualoutput\n",
            "[[0.92]\n",
            " [0.86]\n",
            " [0.89]]\n",
            "Predicted Output\n",
            "[[0.86420418]\n",
            " [0.86054765]\n",
            " [0.86302879]]\n",
            "Error\n",
            "[[ 0.05579582]\n",
            " [-0.00054765]\n",
            " [ 0.02697121]]\n"
          ]
        }
      ]
    }
  ]
}