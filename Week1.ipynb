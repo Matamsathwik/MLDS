{
  "nbformat": 4,
  "nbformat_minor": 0,
  "metadata": {
    "colab": {
      "provenance": [],
      "authorship_tag": "ABX9TyOgkAXq5jcSThWEVBqG3YKO",
      "include_colab_link": true
    },
    "kernelspec": {
      "name": "python3",
      "display_name": "Python 3"
    },
    "language_info": {
      "name": "python"
    }
  },
  "cells": [
    {
      "cell_type": "markdown",
      "metadata": {
        "id": "view-in-github",
        "colab_type": "text"
      },
      "source": [
        "<a href=\"https://colab.research.google.com/github/Matamsathwik/MLDS/blob/main/Week1.ipynb\" target=\"_parent\"><img src=\"https://colab.research.google.com/assets/colab-badge.svg\" alt=\"Open In Colab\"/></a>"
      ]
    },
    {
      "cell_type": "code",
      "source": [
        "import csv\n",
        "num_attributes = 6\n",
        "a = []\n",
        "print(\"\\n The given Training Data set \\n\")\n",
        "\n",
        "with open('ENJOYSPORT.csv','r') as csvfile:\n",
        "    reader = csv.reader(csvfile)\n",
        "    for row in reader:\n",
        "      a.append (row)\n",
        "      print(row)\n",
        "print(\"\\nThe initial value of hypothesis\")\n",
        "hypothesis = ['0'] * num_attributes\n",
        "print(hypothesis)\n",
        "for j in range (0,num_attributes):\n",
        "  hypothesis[j] = a[0][j];\n",
        "print(\"\\n Find S: Finding a maximally specific hypothesis\")\n",
        "for i in range(0,len(a)):\n",
        "  if a[i][num_attributes] =='yes':\n",
        "    for j in range(0,num_attributes):\n",
        "      if a[i][j]!=hypothesis[j]:\n",
        "        hypothesis[j]='?'\n",
        "      else :\n",
        "        hypothesis[j] = a[i][j]\n",
        "    print(\"for training instance No:{0} the hypothesis is\".format(i),hypothesis)\n",
        "print(\"\\n the maximally specific hypothesis for a given training examples is\")\n",
        "print(hypothesis)"
      ],
      "metadata": {
        "id": "CxIg-QV20iMj",
        "outputId": "d6027ed2-778a-406d-8b0b-3ebc5e515421",
        "colab": {
          "base_uri": "https://localhost:8080/"
        }
      },
      "execution_count": null,
      "outputs": [
        {
          "output_type": "stream",
          "name": "stdout",
          "text": [
            "\n",
            " The given Training Data set \n",
            "\n",
            "['Sky', 'AirTemp', 'Humidity', 'Wind', 'Water', 'Forecast', 'EnjoySport']\n",
            "['Sunny', 'Warm', 'Normal', 'Strong', 'Warm', 'Same', '1']\n",
            "['Sunny', 'Warm', 'High', 'Strong', 'Warm', 'Same', '1']\n",
            "['Rainy', 'Cold', 'High', 'Strong', 'Warm', 'Change', '0']\n",
            "['Sunny', 'Warm', 'High', 'Strong', 'Cool', 'Change', '1']\n",
            "\n",
            "The initial value of hypothesis\n",
            "['0', '0', '0', '0', '0', '0']\n",
            "\n",
            " Find S: Finding a maximally specific hypothesis\n",
            "\n",
            " the maximally specific hypothesis for a given training examples is\n",
            "['Sky', 'AirTemp', 'Humidity', 'Wind', 'Water', 'Forecast']\n"
          ]
        }
      ]
    }
  ]
}